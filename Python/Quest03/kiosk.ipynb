{
  "nbformat": 4,
  "nbformat_minor": 0,
  "metadata": {
    "colab": {
      "provenance": [],
      "authorship_tag": "ABX9TyMBKEPSjP6Y+tD0Mynqpd4x",
      "include_colab_link": true
    },
    "kernelspec": {
      "name": "python3",
      "display_name": "Python 3"
    },
    "language_info": {
      "name": "python"
    }
  },
  "cells": [
    {
      "cell_type": "markdown",
      "metadata": {
        "id": "view-in-github",
        "colab_type": "text"
      },
      "source": [
        "<a href=\"https://colab.research.google.com/github/yujeong-hub/AIFFEL_quest_cr/blob/main/Python/Quest03/kiosk.ipynb\" target=\"_parent\"><img src=\"https://colab.research.google.com/assets/colab-badge.svg\" alt=\"Open In Colab\"/></a>"
      ]
    },
    {
      "cell_type": "code",
      "execution_count": 4,
      "metadata": {
        "colab": {
          "base_uri": "https://localhost:8080/"
        },
        "id": "7hD2JzrOwPD3",
        "outputId": "86236ff8-5333-479b-e4d3-7f12262f6ab0"
      },
      "outputs": [
        {
          "output_type": "stream",
          "name": "stdout",
          "text": [
            "넓이를 구하고 싶은 사각형의 숫자를 써주세요.\n",
            " 1.직사각형 2.평행사변형 3.사다리꼴 \n",
            " >>>2\n",
            "평행사변형 함수는 par()입니다.\n",
            "밑변과 높이를 입력하세요. 예시 : 밑변,높이\n",
            " >>>3,2\n",
            "평행사변형의 넓이는 : 6\n"
          ]
        }
      ],
      "source": [
        "class Square:\n",
        "    def __init__(self):\n",
        "        self.square = int(input('넓이를 구하고 싶은 사각형의 숫자를 써주세요.\\n 1.직사각형 2.평행사변형 3.사다리꼴 \\n >>>'))\n",
        "\n",
        "        if self.square == 1:\n",
        "            print('직사각형 함수는 rect()입니다.')\n",
        "\n",
        "        elif self.square == 2:\n",
        "            print('평행사변형 함수는 par()입니다.')\n",
        "\n",
        "        elif self.square == 3:\n",
        "            print('사다리꼴 함수는 trape()입니다.')\n",
        "\n",
        "        else:\n",
        "            print('1, 2, 3 중에서 다시 입력해주세요')\n",
        "\n",
        "    def rect(self):\n",
        "        width, vertical = map(int, input('가로, 세로를 입력하세요. 예시 : 가로,세로\\n >>>').split(','))\n",
        "        area = width * vertical\n",
        "        result = '직사각형의 넓이는 : ' + str(area)\n",
        "        return result\n",
        "\n",
        "    def par(self):\n",
        "        base, height = map(int, input('밑변과 높이를 입력하세요. 예시 : 밑변,높이\\n >>>').split(','))\n",
        "        area = base * height\n",
        "        result = '평행사변형의 넓이는 : ' + str(area)\n",
        "        return result\n",
        "\n",
        "    def trape(self):\n",
        "        top, base, height = map(int, input('윗변, 밑변, 높이를 입력하세요. 예시 : 윗변,밑변,높이\\n >>>').split(','))\n",
        "        area = (top + base) * height / 2\n",
        "        result = '사다리꼴의 넓이는 : ' + str(area)\n",
        "        return result\n",
        "\n",
        "\n",
        "# 객체 생성 및 테스트\n",
        "a = Square()\n",
        "\n",
        "# 예: 평행사변형 계산 테스트\n",
        "if a.square == 2:\n",
        "    print(a.par())  # 3,2를 입력하면 넓이 6 출력"
      ]
    },
    {
      "cell_type": "code",
      "source": [
        "class Square:\n",
        "    def __init__(self):\n",
        "        self.square = int(input('넓이를 구하고 싶은 사각형의 숫자를 써주세요.\\n 1.직사각형 2.평행사변형 3.사다리꼴 \\n >>>'))\n",
        "\n",
        "        if self.square == 1:\n",
        "            print('직사각형 함수는 rect()입니다.')\n",
        "\n",
        "        elif self.square == 2:\n",
        "            print('평행사변형 함수는 par()입니다.')\n",
        "\n",
        "        elif self.square == 3:\n",
        "            print('사다리꼴 함수는 trape()입니다.')\n",
        "\n",
        "        else:\n",
        "            print('1, 2, 3 중에서 다시 입력해주세요')\n",
        "\n",
        "    def rect(self):\n",
        "        width, vertical = map(int, input('가로, 세로를 입력하세요. 예시 : 가로,세로\\n >>>').split(','))\n",
        "        area = width * vertical\n",
        "        result = '직사각형의 넓이는 : ' + str(area)\n",
        "        return result\n",
        "\n",
        "    def par(self):\n",
        "        base, height = map(int, input('밑변과 높이를 입력하세요. 예시 : 밑변,높이\\n >>>').split(','))\n",
        "        area = base * height\n",
        "        result = '평행사변형의 넓이는 : ' + str(area)\n",
        "        return result\n",
        "\n",
        "    def trape(self):\n",
        "        top, base, height = map(int, input('윗변, 밑변, 높이를 입력하세요. 예시 : 윗변,밑변,높이\\n >>>').split(','))\n",
        "        area = (top + base) * height / 2\n",
        "        result = '사다리꼴의 넓이는 : ' + str(area)\n",
        "        return result\n",
        "\n",
        "\n",
        "# 객체 생성 및 테스트\n",
        "a = Square()\n",
        "\n",
        "# 예: 사다리꼴 계산 테스트\n",
        "if a.square == 3:\n",
        "    print(a.trape())  # 예: 3,2,1 입력 시 넓이 2.5 출력"
      ],
      "metadata": {
        "colab": {
          "base_uri": "https://localhost:8080/"
        },
        "id": "aWOAOodEyRlm",
        "outputId": "fa40c62a-1132-4b30-ae9a-c885226b8417"
      },
      "execution_count": 5,
      "outputs": [
        {
          "output_type": "stream",
          "name": "stdout",
          "text": [
            "넓이를 구하고 싶은 사각형의 숫자를 써주세요.\n",
            " 1.직사각형 2.평행사변형 3.사다리꼴 \n",
            " >>>3\n",
            "사다리꼴 함수는 trape()입니다.\n",
            "윗변, 밑변, 높이를 입력하세요. 예시 : 윗변,밑변,높이\n",
            " >>>3,2,1\n",
            "사다리꼴의 넓이는 : 2.5\n"
          ]
        }
      ]
    },
    {
      "cell_type": "code",
      "source": [
        "class Kiosk:\n",
        "    def __init__(self):\n",
        "        # 메뉴와 가격 리스트 초기화\n",
        "        self.menu = ['아메리카노', '카페라떼', '카라멜 마키아토', '녹차 라떼']\n",
        "        self.price = [2500, 3000, 3500, 2800]\n",
        "        self.order = []  # 주문한 항목들 저장 리스트\n",
        "        self.total_price = 0  # 총 가격 초기화\n",
        "\n",
        "    # 메뉴 출력 메서드\n",
        "    def menu_print(self):\n",
        "        print(\"===== 메뉴 =====\")\n",
        "        for i in range(len(self.menu)):\n",
        "            print(i + 1, self.menu[i], ' : ', self.price[i], '원')\n",
        "        print(\"===================\")\n",
        "\n",
        "    # 주문 메서드\n",
        "    def menu_select(self):\n",
        "        self.menu_print()  # 메뉴 출력\n",
        "        print()  # 줄 바꿈\n",
        "        n = 0\n",
        "        while n < 1 or n > len(self.menu):\n",
        "            n = int(input(\"음료 번호를 입력하세요 : \"))  # 음료 번호 입력\n",
        "\n",
        "            # 메뉴판에 있는 음료 번호일 때\n",
        "            if 1 <= n <= len(self.menu):\n",
        "                selected_item = self.menu[n - 1]  # 선택된 음료\n",
        "                selected_price = self.price[n - 1]  # 선택된 음료 가격\n",
        "                self.order.append((selected_item, selected_price))  # 주문에 추가\n",
        "                self.total_price += selected_price  # 총 가격에 추가\n",
        "                print(f'{selected_item} : {selected_price}원')  # 선택한 메뉴 출력\n",
        "                break  # 주문을 받았으면 더 이상 반복하지 않음\n",
        "\n",
        "            # 메뉴판에 없는 번호일 때\n",
        "            else:\n",
        "                print(\"없는 메뉴입니다. 다시 주문해 주세요.\")\n",
        "\n",
        "    # 추가 주문 메서드\n",
        "    def additional_order(self):\n",
        "        while True:\n",
        "            more_order = input(\"추가 주문하시겠습니까? (y/n) : \").lower()\n",
        "            if more_order == 'y':\n",
        "                self.menu_select()  # 추가 주문 받기\n",
        "            elif more_order == 'n':\n",
        "                break  # 추가 주문을 중지\n",
        "            else:\n",
        "                print(\"잘못된 입력입니다. 'y' 또는 'n'으로 답해주세요.\")\n",
        "\n",
        "    # 지불 메서드\n",
        "    def payment(self):\n",
        "        print(\"\\n===== 주문 내역 =====\")\n",
        "        for item, price in self.order:\n",
        "            print(item, ' : ', price, '원')\n",
        "        print(\"===================\")\n",
        "        print(f\"총 가격 : {self.total_price}원\")\n",
        "\n",
        "        amount_paid = int(input(\"지불하실 금액을 입력하세요 : \"))\n",
        "        if amount_paid >= self.total_price:\n",
        "            print(f\"결제 완료! 거스름돈은 {amount_paid - self.total_price}원 입니다.\")\n",
        "        else:\n",
        "            print(\"금액이 부족합니다. 다시 입력해주세요.\")\n",
        "\n",
        "# Kiosk 클래스 사용 예시\n",
        "kiosk = Kiosk()  # Kiosk 객체 생성\n",
        "\n",
        "kiosk.menu_select()  # 첫 번째 주문 받기\n",
        "kiosk.additional_order()  # 추가 주문 받기\n",
        "kiosk.payment()  # 지불 처리"
      ],
      "metadata": {
        "colab": {
          "base_uri": "https://localhost:8080/"
        },
        "id": "VgMK5ZbfySMy",
        "outputId": "1c4077cd-32e1-4140-f2e8-82804cf82955"
      },
      "execution_count": 6,
      "outputs": [
        {
          "output_type": "stream",
          "name": "stdout",
          "text": [
            "===== 메뉴 =====\n",
            "1 아메리카노  :  2500 원\n",
            "2 카페라떼  :  3000 원\n",
            "3 카라멜 마키아토  :  3500 원\n",
            "4 녹차 라떼  :  2800 원\n",
            "===================\n",
            "\n",
            "음료 번호를 입력하세요 : 2\n",
            "카페라떼 : 3000원\n",
            "추가 주문하시겠습니까? (y/n) : n\n",
            "\n",
            "===== 주문 내역 =====\n",
            "카페라떼  :  3000 원\n",
            "===================\n",
            "총 가격 : 3000원\n",
            "지불하실 금액을 입력하세요 : 5000\n",
            "결제 완료! 거스름돈은 2000원 입니다.\n"
          ]
        }
      ]
    }
  ]
}