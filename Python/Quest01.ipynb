{
  "nbformat": 4,
  "nbformat_minor": 0,
  "metadata": {
    "colab": {
      "provenance": [],
      "include_colab_link": true
    },
    "kernelspec": {
      "name": "python3",
      "display_name": "Python 3"
    },
    "language_info": {
      "name": "python"
    }
  },
  "cells": [
    {
      "cell_type": "markdown",
      "metadata": {
        "id": "view-in-github",
        "colab_type": "text"
      },
      "source": [
        "<a href=\"https://colab.research.google.com/github/yujeong-hub/AIFFEL_quest_cr/blob/main/Python/Quest01.ipynb\" target=\"_parent\"><img src=\"https://colab.research.google.com/assets/colab-badge.svg\" alt=\"Open In Colab\"/></a>"
      ]
    },
    {
      "cell_type": "code",
      "execution_count": null,
      "metadata": {
        "id": "UKiEMmTvXOt-"
      },
      "outputs": [],
      "source": [
        "def wooyoungwoo(word):\n",
        "\n",
        " n = len(word)\n",
        " a = 0\n",
        "\n",
        " if n == 1 :\n",
        "  return True\n",
        "\n",
        " while a < n/2 :\n",
        "  a += 1\n",
        " return word[a] == word[-1-a] and word[a].isupper() == word[-1-a].isupper() and word[a].islower() == word[-1-a].islower()\n",
        "\n",
        " if type(word) == type(1234):\n",
        "  return True\n",
        "\n",
        "word = input(\"단어를 입력하시오.\")\n",
        "\n",
        "if wooyoungwoo(word) :\n",
        "   print(\"회문입니다.\")\n",
        "\n",
        "else :\n",
        "   print(\"회문이 아닙니다.\")\n",
        "\n",
        "# idea: 앞과 뒤에서 한칸씩 중앙으로 다가오면서 동일한지 확인하기\n",
        "# 한 글자 짜리 구분X -> n == 1로 해결~!\n",
        "# 대소문자 구분X -> 대소문자 판별 함수 활용하여 and로 엮어서 해결~!"
      ]
    }
  ]
}